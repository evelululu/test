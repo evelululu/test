{
 "cells": [
  {
   "cell_type": "code",
   "execution_count": 129,
   "id": "cadd61d0",
   "metadata": {},
   "outputs": [],
   "source": [
    "import tensorflow as tf\n",
    "import cv2\n",
    "import numpy as np\n",
    "import pandas as pd\n",
    "import matplotlib.pyplot as plt"
   ]
  },
  {
   "cell_type": "code",
   "execution_count": 130,
   "id": "d172e06c",
   "metadata": {},
   "outputs": [],
   "source": [
    "new_model=tf.keras.models.load_model('a.h5')"
   ]
  },
  {
   "cell_type": "code",
   "execution_count": 170,
   "id": "561fc29f",
   "metadata": {},
   "outputs": [],
   "source": [
    "ima=cv2.imread('2.png',0)"
   ]
  },
  {
   "cell_type": "code",
   "execution_count": 171,
   "id": "e03601e1",
   "metadata": {},
   "outputs": [
    {
     "data": {
      "text/plain": [
       "<matplotlib.image.AxesImage at 0x1b531bb12e0>"
      ]
     },
     "execution_count": 171,
     "metadata": {},
     "output_type": "execute_result"
    },
    {
     "data": {
      "image/png": "[encoded data removed]",
      "text/plain": [
       "<Figure size 432x288 with 1 Axes>"
      ]
     },
     "metadata": {
      "needs_background": "light"
     },
     "output_type": "display_data"
    }
   ],
   "source": [
    "plt.imshow(ima)"
   ]
  },
  {
   "cell_type": "code",
   "execution_count": 172,
   "id": "1cb14d38",
   "metadata": {},
   "outputs": [],
   "source": [
    "ima=cv2.resize(ima,(28,28))\n",
    "ima=ima.reshape(1,28,28,1)\n",
    "ima=ima/255"
   ]
  },
  {
   "cell_type": "code",
   "execution_count": 173,
   "id": "29451022",
   "metadata": {},
   "outputs": [],
   "source": [
    "predict=new_model.predict(ima)"
   ]
  },
  {
   "cell_type": "code",
   "execution_count": 174,
   "id": "4ae7dbc5",
   "metadata": {},
   "outputs": [
    {
     "data": {
      "text/plain": [
       "array([[9.1438997e-05, 8.7995750e-07, 6.7690671e-08, 2.7515987e-05,\n",
       "        3.6944022e-07, 1.8085819e-01, 8.1862122e-01, 2.1678134e-10,\n",
       "        3.9473761e-04, 5.5960259e-06]], dtype=float32)"
      ]
     },
     "execution_count": 174,
     "metadata": {},
     "output_type": "execute_result"
    }
   ],
   "source": [
    "predict"
   ]
  },
  {
   "cell_type": "code",
   "execution_count": 175,
   "id": "201551fc",
   "metadata": {},
   "outputs": [
    {
     "data": {
      "text/plain": [
       "6"
      ]
     },
     "execution_count": 175,
     "metadata": {},
     "output_type": "execute_result"
    }
   ],
   "source": [
    "np.argmax(predict)"
   ]
  },
  {
   "cell_type": "code",
   "execution_count": 176,
   "id": "1c6d9dd7",
   "metadata": {},
   "outputs": [
    {
     "data": {
      "text/plain": [
       "7"
      ]
     },
     "execution_count": 176,
     "metadata": {},
     "output_type": "execute_result"
    }
   ],
   "source": [
    "np.argmin(predict)"
   ]
  },
  {
   "cell_type": "code",
   "execution_count": null,
   "id": "67dfcdfc",
   "metadata": {},
   "outputs": [],
   "source": []
  },
  {
   "cell_type": "code",
   "execution_count": null,
   "id": "41530f32",
   "metadata": {},
   "outputs": [],
   "source": []
  }
 ],
 "metadata": {
  "kernelspec": {
   "display_name": "Python 3",
   "language": "python",
   "name": "python3"
  },
  "language_info": {
   "codemirror_mode": {
    "name": "ipython",
    "version": 3
   },
   "file_extension": ".py",
   "mimetype": "text/x-python",
   "name": "python",
   "nbconvert_exporter": "python",
   "pygments_lexer": "ipython3",
   "version": "3.8.8"
  }
 },
 "nbformat": 4,
 "nbformat_minor": 5
}
