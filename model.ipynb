{
 "cells": [
  {
   "cell_type": "code",
   "execution_count": 1,
   "id": "720d8d5f",
   "metadata": {},
   "outputs": [],
   "source": [
    "import tensorflow as tf\n",
    "\n",
    "import numpy as np\n",
    "import pandas as pd\n",
    "\n",
    "import matplotlib.pyplot as plt"
   ]
  },
  {
   "cell_type": "code",
   "execution_count": 2,
   "id": "a811d349",
   "metadata": {},
   "outputs": [],
   "source": [
    "(train_images,train_labels),(test_images,test_labels)=tf.keras.datasets.mnist.load_data()\n",
    "#载入数据"
   ]
  },
  {
   "cell_type": "code",
   "execution_count": 3,
   "id": "23786547",
   "metadata": {},
   "outputs": [],
   "source": [
    "train_images=train_images.reshape(60000,28,28,1)\n",
    "test_images=test_images.reshape(10000,28,28,1)\n",
    "#增加维度，卷积操作改变维度"
   ]
  },
  {
   "cell_type": "code",
   "execution_count": 4,
   "id": "4554577d",
   "metadata": {},
   "outputs": [],
   "source": [
    "train_images=train_images/255\n",
    "test_images=test_images/255"
   ]
  },
  {
   "cell_type": "code",
   "execution_count": 5,
   "id": "f11fe7ad",
   "metadata": {},
   "outputs": [],
   "source": [
    "train_labels=np.array(pd.get_dummies(train_labels))\n",
    "test_labels=np.array(pd.get_dummies(test_labels))"
   ]
  },
  {
   "cell_type": "code",
   "execution_count": 6,
   "id": "deee4677",
   "metadata": {},
   "outputs": [],
   "source": [
    "model=tf.keras.Sequential()\n",
    "#顺序结构搭建神经网络"
   ]
  },
  {
   "cell_type": "code",
   "execution_count": 7,
   "id": "92ff6529",
   "metadata": {},
   "outputs": [],
   "source": [
    "model.add(tf.keras.layers.Conv2D(filters=6,kernel_size=(5,5),input_shape=(28,28,1),padding='same',activation=\"sigmoid\"))\n",
    "model.add(tf.keras.layers.MaxPooling2D(pool_size=(2,2)))\n",
    "model.add(tf.keras.layers.Conv2D(filters=16,kernel_size=(5,5),activation=\"sigmoid\"))\n",
    "model.add(tf.keras.layers.MaxPooling2D(pool_size=(2,2)))\n",
    "model.add(tf.keras.layers.Conv2D(filters=120,kernel_size=(5,5),activation=\"sigmoid\"))\n",
    "model.add(tf.keras.layers.Flatten())\n",
    "model.add(tf.keras.layers.Dense(84,activation='sigmoid'))\n",
    "model.add(tf.keras.layers.Dense(10,activation='softmax'))"
   ]
  },
  {
   "cell_type": "code",
   "execution_count": 8,
   "id": "c9eaedbb",
   "metadata": {},
   "outputs": [
    {
     "name": "stdout",
     "output_type": "stream",
     "text": [
      "Model: \"sequential\"\n",
      "_________________________________________________________________\n",
      " Layer (type)                Output Shape              Param #   \n",
      "=================================================================\n",
      " conv2d (Conv2D)             (None, 28, 28, 6)         156       \n",
      "                                                                 \n",
      " max_pooling2d (MaxPooling2D  (None, 14, 14, 6)        0         \n",
      " )                                                               \n",
      "                                                                 \n",
      " conv2d_1 (Conv2D)           (None, 10, 10, 16)        2416      \n",
      "                                                                 \n",
      " max_pooling2d_1 (MaxPooling  (None, 5, 5, 16)         0         \n",
      " 2D)                                                             \n",
      "                                                                 \n",
      " conv2d_2 (Conv2D)           (None, 1, 1, 120)         48120     \n",
      "                                                                 \n",
      " flatten (Flatten)           (None, 120)               0         \n",
      "                                                                 \n",
      " dense (Dense)               (None, 84)                10164     \n",
      "                                                                 \n",
      " dense_1 (Dense)             (None, 10)                850       \n",
      "                                                                 \n",
      "=================================================================\n",
      "Total params: 61,706\n",
      "Trainable params: 61,706\n",
      "Non-trainable params: 0\n",
      "_________________________________________________________________\n"
     ]
    }
   ],
   "source": [
    "model.summary()"
   ]
  },
  {
   "cell_type": "code",
   "execution_count": 9,
   "id": "c8a1abf0",
   "metadata": {},
   "outputs": [],
   "source": [
    "model.compile(optimizer='adam',loss='categorical_crossentropy',metrics=['acc'])"
   ]
  },
  {
   "cell_type": "code",
   "execution_count": 10,
   "id": "52336210",
   "metadata": {
    "scrolled": true
   },
   "outputs": [
    {
     "name": "stdout",
     "output_type": "stream",
     "text": [
      "Epoch 1/20\n",
      "1875/1875 [==============================] - 21s 11ms/step - loss: 0.7700 - acc: 0.7470 - val_loss: 0.1697 - val_acc: 0.9487\n",
      "Epoch 2/20\n",
      "1875/1875 [==============================] - 20s 11ms/step - loss: 0.1328 - acc: 0.9597 - val_loss: 0.0840 - val_acc: 0.9736\n",
      "Epoch 3/20\n",
      "1875/1875 [==============================] - 19s 10ms/step - loss: 0.0845 - acc: 0.9735 - val_loss: 0.0674 - val_acc: 0.9790\n",
      "Epoch 4/20\n",
      "1875/1875 [==============================] - 19s 10ms/step - loss: 0.0656 - acc: 0.9794 - val_loss: 0.0537 - val_acc: 0.9823\n",
      "Epoch 5/20\n",
      "1875/1875 [==============================] - 17s 9ms/step - loss: 0.0539 - acc: 0.9831 - val_loss: 0.0523 - val_acc: 0.9833\n",
      "Epoch 6/20\n",
      "1875/1875 [==============================] - 19s 10ms/step - loss: 0.0457 - acc: 0.9858 - val_loss: 0.0450 - val_acc: 0.9852\n",
      "Epoch 7/20\n",
      "1875/1875 [==============================] - 20s 11ms/step - loss: 0.0394 - acc: 0.9877 - val_loss: 0.0455 - val_acc: 0.9854\n",
      "Epoch 8/20\n",
      "1875/1875 [==============================] - 18s 9ms/step - loss: 0.0343 - acc: 0.9893 - val_loss: 0.0399 - val_acc: 0.9871\n",
      "Epoch 9/20\n",
      "1875/1875 [==============================] - 17s 9ms/step - loss: 0.0300 - acc: 0.9904 - val_loss: 0.0396 - val_acc: 0.9872\n",
      "Epoch 10/20\n",
      "1875/1875 [==============================] - 16s 8ms/step - loss: 0.0267 - acc: 0.9915 - val_loss: 0.0322 - val_acc: 0.9890\n",
      "Epoch 11/20\n",
      "1875/1875 [==============================] - 16s 8ms/step - loss: 0.0231 - acc: 0.9925 - val_loss: 0.0384 - val_acc: 0.9879\n",
      "Epoch 12/20\n",
      "1875/1875 [==============================] - 15s 8ms/step - loss: 0.0203 - acc: 0.9936 - val_loss: 0.0360 - val_acc: 0.9880\n",
      "Epoch 13/20\n",
      "1875/1875 [==============================] - 17s 9ms/step - loss: 0.0182 - acc: 0.9942 - val_loss: 0.0346 - val_acc: 0.9887\n",
      "Epoch 14/20\n",
      "1875/1875 [==============================] - 20s 11ms/step - loss: 0.0152 - acc: 0.9949 - val_loss: 0.0382 - val_acc: 0.9890\n",
      "Epoch 15/20\n",
      "1875/1875 [==============================] - 17s 9ms/step - loss: 0.0144 - acc: 0.9953 - val_loss: 0.0309 - val_acc: 0.9902\n",
      "Epoch 16/20\n",
      "1875/1875 [==============================] - 19s 10ms/step - loss: 0.0113 - acc: 0.9967 - val_loss: 0.0380 - val_acc: 0.9884\n",
      "Epoch 17/20\n",
      "1875/1875 [==============================] - 20s 11ms/step - loss: 0.0113 - acc: 0.9966 - val_loss: 0.0370 - val_acc: 0.9883\n",
      "Epoch 18/20\n",
      "1875/1875 [==============================] - 19s 10ms/step - loss: 0.0092 - acc: 0.9972 - val_loss: 0.0329 - val_acc: 0.9894\n",
      "Epoch 19/20\n",
      "1875/1875 [==============================] - 18s 10ms/step - loss: 0.0081 - acc: 0.9975 - val_loss: 0.0397 - val_acc: 0.9879\n",
      "Epoch 20/20\n",
      "1875/1875 [==============================] - 19s 10ms/step - loss: 0.0078 - acc: 0.9976 - val_loss: 0.0348 - val_acc: 0.9897\n"
     ]
    }
   ],
   "source": [
    "history=model.fit(train_images,train_labels,epochs=20,validation_data=(test_images,test_labels))"
   ]
  },
  {
   "cell_type": "code",
   "execution_count": 11,
   "id": "7edcda20",
   "metadata": {},
   "outputs": [
    {
     "name": "stdout",
     "output_type": "stream",
     "text": [
      "313/313 [==============================] - 2s 5ms/step - loss: 0.0348 - acc: 0.9897\n"
     ]
    },
    {
     "data": {
      "text/plain": [
       "[0.034845106303691864, 0.9897000193595886]"
      ]
     },
     "execution_count": 11,
     "metadata": {},
     "output_type": "execute_result"
    }
   ],
   "source": [
    "model.evaluate(test_images,test_labels)"
   ]
  },
  {
   "cell_type": "code",
   "execution_count": 12,
   "id": "73284645",
   "metadata": {},
   "outputs": [],
   "source": [
    "model.save('a.h5')"
   ]
  },
  {
   "cell_type": "code",
   "execution_count": null,
   "id": "4927cb8f",
   "metadata": {},
   "outputs": [],
   "source": []
  }
 ],
 "metadata": {
  "kernelspec": {
   "display_name": "Python 3",
   "language": "python",
   "name": "python3"
  },
  "language_info": {
   "codemirror_mode": {
    "name": "ipython",
    "version": 3
   },
   "file_extension": ".py",
   "mimetype": "text/x-python",
   "name": "python",
   "nbconvert_exporter": "python",
   "pygments_lexer": "ipython3",
   "version": "3.8.8"
  }
 },
 "nbformat": 4,
 "nbformat_minor": 5
}
